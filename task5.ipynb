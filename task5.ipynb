{
 "cells": [
  {
   "cell_type": "markdown",
   "id": "51e06571",
   "metadata": {},
   "source": [
    "# Q1.Write a program that prints the first 10 even numbers using a for loop.\n",
    "\n",
    "[ ]\n"
   ]
  },
  {
   "cell_type": "code",
   "execution_count": 2,
   "id": "80aaf5bf",
   "metadata": {},
   "outputs": [
    {
     "name": "stdout",
     "output_type": "stream",
     "text": [
      "2\n",
      "4\n",
      "6\n",
      "8\n",
      "10\n",
      "12\n",
      "14\n",
      "16\n",
      "18\n",
      "20\n"
     ]
    }
   ],
   "source": [
    "for i in range(1,21):\n",
    "    if(i%2==0):\n",
    "        print(i)"
   ]
  },
  {
   "cell_type": "markdown",
   "id": "aeebd1f8",
   "metadata": {},
   "source": [
    "# Q2.Write a program that takes a list of strings and prints out each string in reverse order using a for loop."
   ]
  },
  {
   "cell_type": "code",
   "execution_count": 3,
   "id": "63ff388e",
   "metadata": {},
   "outputs": [
    {
     "name": "stdout",
     "output_type": "stream",
     "text": [
      "olleh\n",
      "dlrow\n",
      "nohtyp\n",
      "gnimmargorp\n"
     ]
    }
   ],
   "source": [
    "my_list = [\"hello\", \"world\", \"python\", \"programming\"]\n",
    "for i in my_list:\n",
    "    print(i[::-1])"
   ]
  },
  {
   "cell_type": "markdown",
   "id": "42b480fa",
   "metadata": {},
   "source": [
    "# Q3.Write a program that prints the multiplication table of a given number using a for loop.\n",
    "\n"
   ]
  },
  {
   "cell_type": "code",
   "execution_count": 6,
   "id": "3601c8a1",
   "metadata": {},
   "outputs": [
    {
     "name": "stdout",
     "output_type": "stream",
     "text": [
      "enter the number:6\n",
      "6 x 1 = 6\n",
      "6 x 2 = 12\n",
      "6 x 3 = 18\n",
      "6 x 4 = 24\n",
      "6 x 5 = 30\n",
      "6 x 6 = 36\n",
      "6 x 7 = 42\n",
      "6 x 8 = 48\n",
      "6 x 9 = 54\n",
      "6 x 10 = 60\n"
     ]
    }
   ],
   "source": [
    "n=int(input(\"enter the number:\"))\n",
    "for i in range(1,11):\n",
    "    p=i*n\n",
    "    print(n,\"x\",i,\"=\",p)"
   ]
  },
  {
   "cell_type": "markdown",
   "id": "2b977006",
   "metadata": {},
   "source": [
    "# Q4.Write a program that takes a list of integers as input and returns the sum of all the numbers in the list using a for loop."
   ]
  },
  {
   "cell_type": "code",
   "execution_count": 7,
   "id": "c6d82bd4",
   "metadata": {},
   "outputs": [
    {
     "name": "stdout",
     "output_type": "stream",
     "text": [
      "25\n"
     ]
    }
   ],
   "source": [
    "l=[1,2,3,4,6,9]\n",
    "sum=0\n",
    "for i in l:\n",
    "    sum=sum+i\n",
    "print(sum)"
   ]
  },
  {
   "cell_type": "markdown",
   "id": "70a5111a",
   "metadata": {},
   "source": [
    "# Q5.Write a program that prompts the user for a positive integer and then prints out all the prime numbers up to that number using a for loop"
   ]
  },
  {
   "cell_type": "code",
   "execution_count": 13,
   "id": "3ebae81d",
   "metadata": {},
   "outputs": [
    {
     "name": "stdout",
     "output_type": "stream",
     "text": [
      "enter the number12\n",
      "2\n",
      "3\n",
      "5\n",
      "7\n",
      "11\n"
     ]
    }
   ],
   "source": [
    "def is_prime(n):\n",
    "    if n<=1:\n",
    "        return False\n",
    "    for i in range(2,int(n**(0.5))+1):\n",
    "        if n%i==0:\n",
    "            return False\n",
    "    return True \n",
    "n= int( input(\"enter the number\"))\n",
    "for i in range(2,n+1):\n",
    "    if is_prime(i):\n",
    "        print(i)\n",
    "        "
   ]
  },
  {
   "cell_type": "markdown",
   "id": "a8a11e6f",
   "metadata": {},
   "source": [
    "# Q6.Write a program that prompts the user to enter a password until the correct password is entered using a while loop."
   ]
  },
  {
   "cell_type": "code",
   "execution_count": 14,
   "id": "270d0c05",
   "metadata": {},
   "outputs": [
    {
     "name": "stdout",
     "output_type": "stream",
     "text": [
      "Enter the passwordowwow\n",
      "Incorrect Password!\n",
      "Enter the passwordqoqoqwow\n",
      "Incorrect Password!\n",
      "Enter the passwordhjddbhbvcbdb\n",
      "Incorrect Password!\n",
      "Enter the passwordpassword@123\n",
      "correct Password!\n"
     ]
    }
   ],
   "source": [
    "password=\"password@123\"\n",
    "user_input=input('Enter the password')\n",
    "while user_input !=password:\n",
    "    print(\"Incorrect Password!\")\n",
    "    user_input=input(\"Enter the password\")\n",
    "print(\"correct Password!\")"
   ]
  },
  {
   "cell_type": "markdown",
   "id": "6ea46809",
   "metadata": {},
   "source": [
    "# Q7.Write a program that takes a list of strings and prints out each string in reverse order using a while loop."
   ]
  },
  {
   "cell_type": "code",
   "execution_count": 15,
   "id": "bb923ae9",
   "metadata": {},
   "outputs": [
    {
     "name": "stdout",
     "output_type": "stream",
     "text": [
      "l\n",
      "l\n",
      "e\n",
      "h\n",
      "\n",
      "l\n",
      "r\n",
      "o\n",
      "w\n",
      "\n",
      "h\n",
      "t\n",
      "y\n",
      "p\n",
      "\n",
      "g\n",
      "o\n",
      "r\n",
      "p\n",
      "\n"
     ]
    }
   ],
   "source": [
    "l = [\"hello\", \"world\", \"python\", \"programming\"]\n",
    "for i in l:\n",
    "    index=len(l)-1\n",
    "    while index>=0:\n",
    "        print(i[index])\n",
    "        index-=1\n",
    "    print()"
   ]
  },
  {
   "cell_type": "markdown",
   "id": "f7b41ce0",
   "metadata": {},
   "source": [
    "# Q8.Write a program that prompts the user to enter a positive integer and then prints out all the Fibonacci numbers up to that number using a while loop"
   ]
  },
  {
   "cell_type": "code",
   "execution_count": 16,
   "id": "220f3e5f",
   "metadata": {},
   "outputs": [
    {
     "name": "stdout",
     "output_type": "stream",
     "text": [
      "enter the number :7\n",
      "0\n",
      "1\n",
      "1\n",
      "2\n",
      "3\n",
      "5\n",
      "8\n"
     ]
    }
   ],
   "source": [
    "n=int(input(\"enter the number :\"))\n",
    "a=0\n",
    "b=1\n",
    "print(a)\n",
    "print(b)\n",
    "while b<=n:\n",
    "    c=a+b\n",
    "    print(c)\n",
    "    a=b\n",
    "    b=c"
   ]
  },
  {
   "cell_type": "markdown",
   "id": "481e1098",
   "metadata": {},
   "source": [
    "# Q9.Write a program that takes a list of integers as input and returns the product of all the numbers in the list using a while loop."
   ]
  },
  {
   "cell_type": "code",
   "execution_count": 19,
   "id": "30732c4c",
   "metadata": {},
   "outputs": [
    {
     "name": "stdout",
     "output_type": "stream",
     "text": [
      "3840\n"
     ]
    }
   ],
   "source": [
    "l = [2, 4, 6, 8, 10]\n",
    "p=1\n",
    "for i in l:\n",
    "    p=p*i\n",
    "print(p)"
   ]
  },
  {
   "cell_type": "markdown",
   "id": "9bdc6caa",
   "metadata": {},
   "source": [
    "# Q10.Write a program that prompts the user to enter a positive integer and then prints out the factorial of that number using a while loop"
   ]
  },
  {
   "cell_type": "code",
   "execution_count": 20,
   "id": "3370d90d",
   "metadata": {},
   "outputs": [
    {
     "name": "stdout",
     "output_type": "stream",
     "text": [
      "enter the number:5\n",
      "120\n"
     ]
    }
   ],
   "source": [
    "n=int(input(\"enter the number:\"))\n",
    "fact=1\n",
    "i=1\n",
    "while i<=n:\n",
    "    fact*=i\n",
    "    i+=1\n",
    "print(fact)"
   ]
  },
  {
   "cell_type": "code",
   "execution_count": null,
   "id": "d44f8988",
   "metadata": {},
   "outputs": [],
   "source": []
  }
 ],
 "metadata": {
  "kernelspec": {
   "display_name": "Python 3 (ipykernel)",
   "language": "python",
   "name": "python3"
  },
  "language_info": {
   "codemirror_mode": {
    "name": "ipython",
    "version": 3
   },
   "file_extension": ".py",
   "mimetype": "text/x-python",
   "name": "python",
   "nbconvert_exporter": "python",
   "pygments_lexer": "ipython3",
   "version": "3.10.9"
  }
 },
 "nbformat": 4,
 "nbformat_minor": 5
}
